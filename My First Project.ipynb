{
    "cells": [
        {
            "metadata": {},
            "cell_type": "markdown",
            "source": "# My Jupyter Notebook on IBM Data Science Experience"
        },
        {
            "metadata": {},
            "cell_type": "markdown",
            "source": "**Neena Jacob**  \nData Scientist"
        },
        {
            "metadata": {},
            "cell_type": "markdown",
            "source": "*_I am interested in Data Science because of the popularity of this fiels in the current age and because of its application in almost all fields._*"
        },
        {
            "metadata": {},
            "cell_type": "markdown",
            "source": "This code adds 1 and 1"
        },
        {
            "metadata": {},
            "cell_type": "code",
            "source": "1+1\n",
            "execution_count": 1,
            "outputs": [
                {
                    "output_type": "execute_result",
                    "execution_count": 1,
                    "data": {
                        "text/plain": "2"
                    },
                    "metadata": {}
                }
            ]
        },
        {
            "metadata": {},
            "cell_type": "markdown",
            "source": "~~Scratch this~~"
        },
        {
            "metadata": {},
            "cell_type": "markdown",
            "source": "**Images**"
        },
        {
            "metadata": {},
            "cell_type": "markdown",
            "source": "Reference-style: \n![alt text][logo]\n\n[logo]: https://github.com/adam-p/markdown-here/raw/master/src/common/images/icon48.png \"Logo Title Text 2\"\n\n"
        },
        {
            "metadata": {},
            "cell_type": "markdown",
            "source": "**Horizontal Rule**"
        },
        {
            "metadata": {},
            "cell_type": "markdown",
            "source": "Three or more...\n\n---\n\nHyphens\n\n***\n\nAsterisks\n\n___\n\nUnderscores"
        },
        {
            "metadata": {},
            "cell_type": "code",
            "source": "",
            "execution_count": null,
            "outputs": []
        }
    ],
    "metadata": {
        "kernelspec": {
            "name": "python3",
            "display_name": "Python 3.6",
            "language": "python"
        },
        "language_info": {
            "name": "python",
            "version": "3.6.9",
            "mimetype": "text/x-python",
            "codemirror_mode": {
                "name": "ipython",
                "version": 3
            },
            "pygments_lexer": "ipython3",
            "nbconvert_exporter": "python",
            "file_extension": ".py"
        }
    },
    "nbformat": 4,
    "nbformat_minor": 1
}